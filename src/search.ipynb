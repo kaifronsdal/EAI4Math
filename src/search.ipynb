{
 "cells": [
  {
   "metadata": {
    "jupyter": {
     "is_executing": true
    }
   },
   "cell_type": "code",
   "source": "from lean_dojo import LeanGitRepo, trace, Dojo, DojoInitError, DojoCrashError",
   "id": "24da1f468d35c4b2",
   "outputs": [],
   "execution_count": null
  },
  {
   "metadata": {
    "jupyter": {
     "is_executing": true
    }
   },
   "cell_type": "code",
   "source": [
    "# repo = LeanGitRepo(\n",
    "#     \"https://github.com/leanprover-community/mathlib4\",\n",
    "#     \"29dcec074de168ac2bf835a77ef68bbe069194c5\",\n",
    "# )\n",
    "\n",
    "repo = LeanGitRepo(\n",
    "    \"https://github.com/yangky11/lean4-example\",\n",
    "    \"7b6ecb9ad4829e4e73600a3329baeb3b5df8d23f\"\n",
    ")\n",
    "\n",
    "repo"
   ],
   "id": "489f994d066826ed",
   "outputs": [],
   "execution_count": null
  },
  {
   "metadata": {},
   "cell_type": "code",
   "outputs": [],
   "execution_count": null,
   "source": "repo.get_config(\"lean-toolchain\")",
   "id": "c511cf09a2f1357"
  },
  {
   "metadata": {},
   "cell_type": "code",
   "outputs": [],
   "execution_count": null,
   "source": "traced_repo = trace(repo)",
   "id": "13a6ffc110d8072b"
  },
  {
   "cell_type": "code",
   "execution_count": null,
   "id": "initial_id",
   "metadata": {
    "collapsed": true
   },
   "outputs": [],
   "source": [
    "def best_first_search(\n",
    "        theorem,\n",
    "        model,\n",
    "        tokenizer,\n",
    "        max_iters,\n",
    "        temperatures,\n",
    "        num_samples,\n",
    "        batch_size,\n",
    "        timeout=600,\n",
    "        early_stop=False,\n",
    "        max_seq_len=512,\n",
    "        top_k=200\n",
    ") -> dict:\n",
    "    \"\"\"Best first search.\"\"\"\n",
    "    attempt_results = []\n",
    "    print(\"theorem: \", theorem)\n",
    "    try:\n",
    "        with Dojo(theorem, hard_timeout=timeout) as (dojo, init_state):\n",
    "\n",
    "            start = time.time()\n",
    "            proof_finished = False\n",
    "            cnt = 0\n",
    "            states, steps, traces = [], [], []\n",
    "            for i in range(num_samples):\n",
    "                states.append(init_state)\n",
    "                steps.append([])\n",
    "                traces.append([])\n",
    "\n",
    "            for iteration in trange(max_iters):\n",
    "                istart = time.time()\n",
    "                if istart - start > timeout:\n",
    "                    break\n",
    "                if proof_finished:\n",
    "                    break\n",
    "\n",
    "                ts = [_tactic_state(state) for state in states]\n",
    "\n",
    "                step_cands = generate_tactic(\n",
    "                    ts,\n",
    "                    model,\n",
    "                    tokenizer,\n",
    "                    max_seq_len=max_seq_len,\n",
    "                    num_samples=1,\n",
    "                    temperature=temperatures\n",
    "                )\n",
    "\n",
    "                #if iteration < 2:\n",
    "                #    print(iteration, \" # state: \",ts[0])\n",
    "                #    print(\"tatics: \", step_cands[0])\n",
    "\n",
    "                step_cots = step_cands\n",
    "                step_cands = [s.split(\"```lean\\n\")[-1].split('```')[0].split('---')[0].strip() for s in step_cands]\n",
    "                #print(step_cands[:10])\n",
    "                for i in range(num_samples):\n",
    "                    state, step, step_cot = states[i], step_cands[i], step_cots[i]\n",
    "                    result = dojo.run_tac(state, step)\n",
    "                    step_trace = {\n",
    "                        \"tactic\": step,\n",
    "                        \"full_cot\": step_cot,\n",
    "                        \"state_before\": _tactic_state(state)\n",
    "                    }\n",
    "                    if isinstance(result, ProofFinished):\n",
    "                        attempt_results.append({\n",
    "                            'theorem': theorem.full_name,\n",
    "                            'proof': steps[i] + [step],\n",
    "                            'success': True,\n",
    "                            'failure_reason': '',\n",
    "                            'trace': traces[i] + [step_trace],\n",
    "                            'temperature': temperatures,\n",
    "                            'elapsed': start - time.time(),\n",
    "                            'iteration': iteration\n",
    "                        })\n",
    "                        if early_stop:\n",
    "                            return attempt_results\n",
    "                        proof_finished = True\n",
    "                        break\n",
    "                    elif isinstance(result, TacticState):\n",
    "                        #if _tactic_state(result) not in visited:\n",
    "                        # Score is negative log probability summed across steps\n",
    "                        #new_score = (total_score - score)\n",
    "                        cnt += 1\n",
    "                        states[i] = result\n",
    "                        steps[i].append(step)\n",
    "                        traces[i].append(step_trace)\n",
    "    except (DojoInitError, DojoHardTimeoutError, DojoCrashError) as e:\n",
    "        print(\"Error: \", e)\n",
    "        if len(attempt_results) == 0:\n",
    "            attempt_results.append({\n",
    "                'theorem': theorem.full_name,\n",
    "                'success': False,\n",
    "                'failure_reason': type(e).__name__\n",
    "            })\n",
    "\n",
    "    if len(attempt_results) == 0:\n",
    "        attempt_results.append({\n",
    "            'theorem': theorem.full_name,\n",
    "            'success': False,\n",
    "            'failure_reason': 'SearchEnded'\n",
    "        })\n",
    "\n",
    "    return attempt_results"
   ]
  }
 ],
 "metadata": {
  "kernelspec": {
   "display_name": "Python 3",
   "language": "python",
   "name": "python3"
  },
  "language_info": {
   "codemirror_mode": {
    "name": "ipython",
    "version": 2
   },
   "file_extension": ".py",
   "mimetype": "text/x-python",
   "name": "python",
   "nbconvert_exporter": "python",
   "pygments_lexer": "ipython2",
   "version": "2.7.6"
  }
 },
 "nbformat": 4,
 "nbformat_minor": 5
}
